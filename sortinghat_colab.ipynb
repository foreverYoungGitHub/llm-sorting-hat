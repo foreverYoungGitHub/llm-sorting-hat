{
  "nbformat": 4,
  "nbformat_minor": 0,
  "metadata": {
    "colab": {
      "provenance": [],
      "gpuType": "T4",
      "authorship_tag": "ABX9TyPUDTS95/0W10pQt/TOdqQl",
      "include_colab_link": true
    },
    "kernelspec": {
      "name": "python3",
      "display_name": "Python 3"
    },
    "language_info": {
      "name": "python"
    },
    "accelerator": "GPU"
  },
  "cells": [
    {
      "cell_type": "markdown",
      "metadata": {
        "id": "view-in-github",
        "colab_type": "text"
      },
      "source": [
        "<a href=\"https://colab.research.google.com/github/foreverYoungGitHub/llm-sorting-hat/blob/main/sortinghat_colab.ipynb\" target=\"_parent\"><img src=\"https://colab.research.google.com/assets/colab-badge.svg\" alt=\"Open In Colab\"/></a>"
      ]
    },
    {
      "cell_type": "code",
      "execution_count": null,
      "metadata": {
        "collapsed": true,
        "id": "XUrjAAGMAv4l"
      },
      "outputs": [],
      "source": [
        "!uv pip install vllm"
      ]
    },
    {
      "cell_type": "code",
      "source": [
        "!huggingface-cli login --token $HF_TOKEN"
      ],
      "metadata": {
        "collapsed": true,
        "id": "O8S_G4NhghJZ"
      },
      "execution_count": null,
      "outputs": []
    },
    {
      "cell_type": "code",
      "source": [
        "import argparse\n",
        "\n",
        "from vllm import LLM, SamplingParams\n",
        "from vllm.sampling_params import GuidedDecodingParams"
      ],
      "metadata": {
        "id": "CRTrRvbLEeGo"
      },
      "execution_count": null,
      "outputs": []
    },
    {
      "cell_type": "code",
      "source": [
        "# Initialize LLM\n",
        "llm = LLM(model=\"meta-llama/Llama-3.2-1B-Instruct\", max_model_len=1024)"
      ],
      "metadata": {
        "id": "6fP8TDmjEB26",
        "collapsed": true
      },
      "execution_count": null,
      "outputs": []
    },
    {
      "cell_type": "code",
      "source": [
        "prompt_grammar = \"\"\"You're a wise and ancient Sorting Hat. Based on the following self-introduction from a young wizard, assign them to the most appropriate Hogwarts house.\n",
        "\n",
        "Please output only a JSON object in the following format — no explanation:\n",
        "{{\n",
        "    \"name\": \"string\",\n",
        "    \"age\": \"int\",\n",
        "    \"house\": \"string\"\n",
        "}}\n",
        "\n",
        "Here is the input information:\n",
        "{user_input}\n",
        "\"\"\"\n",
        "\n",
        "def generate_output(llm: LLM, prompt: str, sampling_params: SamplingParams = None) -> str:\n",
        "    outputs = llm.generate(prompts=prompt, sampling_params=sampling_params)\n",
        "    return outputs[0].outputs[0].text"
      ],
      "metadata": {
        "id": "j7sxRVTVrJyN"
      },
      "execution_count": null,
      "outputs": []
    },
    {
      "cell_type": "code",
      "source": [
        "user_input = \"\"\"Hello, my name is Hermione Granger,\n",
        "and I'm a first-year student at Hogwarts, 11 years old.\n",
        "I come from a Muggle family—my parents are dentists—but ever since I received my letter, I’ve been absolutely fascinated by the magical world.\n",
        "Before arriving, I read all the required textbooks, including Hogwarts: A History and Standard Book of Spells.\n",
        "I'm very excited to start my magical education and hope to make a meaningful contribution to whichever house I’m sorted into!\"\"\"\n",
        "\n",
        "user_prompt = prompt_grammar.format(user_input=user_input)\n",
        "\n",
        "grammar_output = generate_output(llm, user_prompt) # without grammar\n",
        "print(grammar_output)"
      ],
      "metadata": {
        "id": "GingwHI9sPqq"
      },
      "execution_count": null,
      "outputs": []
    },
    {
      "cell_type": "code",
      "source": [
        "# Guided decoding by Grammar\n",
        "grammar = r\"\"\"root ::= \"{\" name_entry \",\" age_entry \",\" house_entry \"}\"\n",
        "\n",
        "name_entry ::= (([\\\"] \"name\" [\\\"])) \":\" basic_string\n",
        "age_entry ::= (([\\\"] \"age\" [\\\"])) \":\" age_value\n",
        "house_entry ::= (([\\\"] \"house\" [\\\"])) \":\" house_string\n",
        "\n",
        "age_value ::= (\"0\" | [1-9] [0-9]*)\n",
        "house_string ::= (([\\\"] house_value [\\\"]))\n",
        "house_value ::= \"Gryffindor\" | \"Slytherin\" | \"Ravenclaw\" | \"Hufflepuff\"\n",
        "\n",
        "basic_string ::= (([\\\"] basic_string_1 [\\\"]))\n",
        "basic_string_1 ::= \"\" | [^\"\\\\\\x00-\\x1F] basic_string_1 | \"\\\\\" escape basic_string_1\n",
        "escape ::= [\"\\\\/bfnrt] | \"u\" [A-Fa-f0-9] [A-Fa-f0-9] [A-Fa-f0-9] [A-Fa-f0-9]\n",
        "\"\"\"\n",
        "\n",
        "guided_decoding_params_grammar = GuidedDecodingParams(grammar=grammar)\n",
        "sampling_params_grammar = SamplingParams(guided_decoding=guided_decoding_params_grammar, max_tokens=100, temperature=0.1)"
      ],
      "metadata": {
        "id": "Te_B7AgJA-hA"
      },
      "execution_count": null,
      "outputs": []
    },
    {
      "cell_type": "code",
      "source": [
        "user_input = \"\"\"Hello, my name is Hermione Granger,\n",
        "and I'm a first-year student at Hogwarts, 11 years old.\n",
        "I come from a Muggle family—my parents are dentists—but ever since I received my letter, I’ve been absolutely fascinated by the magical world.\n",
        "Before arriving, I read all the required textbooks, including Hogwarts: A History and Standard Book of Spells.\n",
        "I'm very excited to start my magical education and hope to make a meaningful contribution to whichever house I’m sorted into!\"\"\"\n",
        "\n",
        "user_prompt = prompt_grammar.format(user_input=user_input)\n",
        "\n",
        "grammar_output = generate_output(llm, user_prompt, sampling_params_grammar)\n",
        "print(grammar_output)"
      ],
      "metadata": {
        "id": "eWcl9_9xCbt-"
      },
      "execution_count": null,
      "outputs": []
    }
  ]
}